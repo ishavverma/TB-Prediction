{
 "cells": [
  {
   "cell_type": "code",
   "execution_count": 2,
   "id": "3f610016-c4c6-4734-9f0a-fe2f2c26c601",
   "metadata": {},
   "outputs": [],
   "source": [
    "from tkinter import *\n",
    "import tkinter.messagebox as messagebox\n",
    "import tensorflow as tf\n",
    "from tensorflow.keras.models import load_model\n",
    "import matplotlib.pyplot as plt\n",
    "import cv2\n",
    "import numpy as np\n",
    "import os\n",
    "import pandas\n",
    "import h5py\n",
    "import glob\n",
    "from keras.initializers import glorot_uniform"
   ]
  },
  {
   "cell_type": "code",
   "execution_count": 3,
   "id": "64ef3a58-8fa6-4e85-bc2a-97774ac32587",
   "metadata": {},
   "outputs": [],
   "source": [
    "h5file =  \"model.h5\"\n",
    "\n",
    "with h5py.File(h5file,'r') as fid:\n",
    "     model = load_model(fid)"
   ]
  },
  {
   "cell_type": "code",
   "execution_count": 4,
   "id": "1ed9b8ba-5803-420e-902a-f94a9a4b37e4",
   "metadata": {},
   "outputs": [
    {
     "name": "stdin",
     "output_type": "stream",
     "text": [
      "Enter image name: Img02.png\n"
     ]
    }
   ],
   "source": [
    "Imagepath = str(input(\"Enter image name:\"))"
   ]
  },
  {
   "cell_type": "code",
   "execution_count": 5,
   "id": "783609f0-897b-470f-aa13-3327d7fb035b",
   "metadata": {},
   "outputs": [],
   "source": [
    "def get_filenames():\n",
    "    global path\n",
    "    path = r\"test\"\n",
    "    return os.listdir(path)\n",
    "\n",
    "def autoroi(img):\n",
    "\n",
    "    gray_img = cv2.cvtColor(img, cv2.COLOR_BGR2GRAY)\n",
    "\n",
    "    thresh = cv2.threshold(gray_img, 130, 255, cv2.THRESH_BINARY)[1]\n",
    "    thresh = cv2.dilate(thresh, None, iterations=5)\n",
    "\n",
    "    contours, hierarchy = cv2.findContours(\n",
    "        thresh.copy(), cv2.RETR_EXTERNAL, cv2.CHAIN_APPROX_SIMPLE)\n",
    "\n",
    "    biggest = max(contours, key=cv2.contourArea)\n",
    "    x, y, w, h = cv2.boundingRect(biggest)\n",
    "    cv2.rectangle(img, (x, y), (x+w, y+h), (0, 255, 0), 2)\n",
    "    roi = img[y:y+h, x:x+w]\n",
    "\n",
    "    return roi\n",
    "\n",
    "\n",
    "def prediction():\n",
    "    img = cv2.imread(Imagepath)\n",
    "    img = autoroi(img)\n",
    "    img = cv2.resize(img, (96, 96))\n",
    "    img = np.reshape(img, [1, 96, 96, 3])\n",
    "    img = tf.cast(img, tf.float64)\n",
    "\n",
    "    prediction = model.predict(img)\n",
    "    print(prediction)\n",
    "    Class = prediction.argmax(axis=1)\n",
    "    print(Class)\n",
    "\n",
    "\n",
    "    return(Class)"
   ]
  },
  {
   "cell_type": "code",
   "execution_count": 8,
   "id": "ce255eb2-85ed-4c98-9418-c55e7f158e18",
   "metadata": {},
   "outputs": [
    {
     "name": "stdout",
     "output_type": "stream",
     "text": [
      "1/1 [==============================] - 0s 29ms/step\n",
      "[[0. 1.]]\n",
      "[1]\n",
      "1\n",
      "Final Prediction =  [1]\n"
     ]
    }
   ],
   "source": [
    "finalPrediction = prediction()\n",
    "print(finalPrediction[0])\n",
    "print(\"Final Prediction = \", finalPrediction)\n",
    "if (finalPrediction == 0):\n",
    "    out = \"No TB\"\n",
    "else:\n",
    "    out = \"TB\"\n",
    "top = Tk()\n",
    "#top.geometry(\"250x550\")\n",
    "messagebox.showinfo(\"Result\",out)\n",
    "top.mainloop()"
   ]
  },
  {
   "cell_type": "code",
   "execution_count": null,
   "id": "9bd97262-cbfd-4ff7-997c-e72632411b10",
   "metadata": {},
   "outputs": [],
   "source": []
  }
 ],
 "metadata": {
  "kernelspec": {
   "display_name": "Python 3 (ipykernel)",
   "language": "python",
   "name": "python3"
  },
  "language_info": {
   "codemirror_mode": {
    "name": "ipython",
    "version": 3
   },
   "file_extension": ".py",
   "mimetype": "text/x-python",
   "name": "python",
   "nbconvert_exporter": "python",
   "pygments_lexer": "ipython3",
   "version": "3.10.6"
  }
 },
 "nbformat": 4,
 "nbformat_minor": 5
}
